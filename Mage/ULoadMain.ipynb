{
 "cells": [
  {
   "cell_type": "code",
   "execution_count": null,
   "metadata": {},
   "outputs": [],
   "source": [
    "from mage_ai.data_preparation.repo_manager import get_repo_path\n",
    "from mage_ai.io.bigquery import BigQuery\n",
    "from mage_ai.io.config import ConfigFileLoader\n",
    "from pandas import DataFrame\n",
    "from os import path\n",
    "\n",
    "if 'data_exporter' not in globals():\n",
    "    from mage_ai.data_preparation.decorators import data_exporter\n",
    "\n",
    "\n",
    "@data_exporter\n",
    "def export_data_to_big_query(data, **kwargs) -> None:\n",
    "    \"\"\"\n",
    "    Template for exporting data to a BigQuery warehouse.\n",
    "    Specify your configuration settings in 'io_config.yaml'.\n",
    "\n",
    "    Docs: https://docs.mage.ai/design/data-loading#bigquery\n",
    "    \"\"\"\n",
    "\n",
    "    config_path = path.join(get_repo_path(), 'io_config.yaml')\n",
    "    config_profile = 'default'\n",
    "\n",
    "    for key, value in data.items():\n",
    "\n",
    "\n",
    "        table_id = 'celestial-gist-375110.uber_projects_salmah.{}'.format(key)\n",
    "        BigQuery.with_config(ConfigFileLoader(config_path, config_profile)).export(\n",
    "        DataFrame(value),\n",
    "        table_id,\n",
    "        if_exists='replace',  # Specify resolution policy if table name already exists\n",
    "    )\n",
    "\n"
   ]
  }
 ],
 "metadata": {
  "language_info": {
   "name": "python"
  },
  "orig_nbformat": 4
 },
 "nbformat": 4,
 "nbformat_minor": 2
}
